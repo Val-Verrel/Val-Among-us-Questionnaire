{
 "cells": [
  {
   "cell_type": "code",
   "execution_count": 1,
   "id": "0eead493-6b0c-42fe-bbe4-1a18990e6c05",
   "metadata": {},
   "outputs": [],
   "source": [
    "import matplotlib.pyplot as plt\n",
    "import pandas as pd\n",
    "%matplotlib inline"
   ]
  },
  {
   "cell_type": "code",
   "execution_count": 6,
   "id": "64e4b10f-e0b5-40f6-a51c-e439068ab3ad",
   "metadata": {},
   "outputs": [],
   "source": [
    "path = 'Questionnaire'\n",
    "questionaire_data = pd.read_csv('Questionnaire.csv')"
   ]
  },
  {
   "cell_type": "code",
   "execution_count": 7,
   "id": "597175e3-c5e2-462b-b8f0-0036d7ad5a8b",
   "metadata": {},
   "outputs": [
    {
     "name": "stdout",
     "output_type": "stream",
     "text": [
      "                   Timestamp  \\\n",
      "0  2023/11/15 4:38:32 PM GMT   \n",
      "1  2023/11/15 4:40:28 PM GMT   \n",
      "2  2023/11/15 4:40:32 PM GMT   \n",
      "3  2023/11/15 4:40:32 PM GMT   \n",
      "4  2023/11/15 4:41:56 PM GMT   \n",
      "\n",
      "  Which part of the world have you spent most of your life in?  \\\n",
      "0                                               Asia             \n",
      "1                                             Europe             \n",
      "2                                             Europe             \n",
      "3                                             Europe             \n",
      "4                                               Asia             \n",
      "\n",
      "  What motivates you to work?  \\\n",
      "0                       Money   \n",
      "1                     Passion   \n",
      "2                     Passion   \n",
      "3                       Money   \n",
      "4                      Vision   \n",
      "\n",
      "  Which out of these can be described as your desired end goal for life?  \\\n",
      "0                            Sense of Accomplishment                       \n",
      "1                            Sense of Accomplishment                       \n",
      "2                                      Peace and Joy                       \n",
      "3                                      Peace and Joy                       \n",
      "4                                      Peace and Joy                       \n",
      "\n",
      "            Which best describes paradise for you?  \\\n",
      "0                A genie offering you three wishes   \n",
      "1       A world where you can do whatever you like   \n",
      "2  A world filled with tropical islands everywhere   \n",
      "3                A genie offering you three wishes   \n",
      "4       A world where you can do whatever you like   \n",
      "\n",
      "  Which way would you best describe the event's that have taken place in your life?  \\\n",
      "0                                            Fortune                                  \n",
      "1                                          Purposful                                  \n",
      "2                                          Purposful                                  \n",
      "3                                         No meaning                                  \n",
      "4                                            Fortune                                  \n",
      "\n",
      "  Which of these do you desire the most?  \n",
      "0                                 Riches  \n",
      "1                    all of the above xd  \n",
      "2                                  peace  \n",
      "3                                   Love  \n",
      "4                                  Peace  \n",
      "<class 'pandas.core.frame.DataFrame'>\n",
      "RangeIndex: 17 entries, 0 to 16\n",
      "Data columns (total 7 columns):\n",
      " #   Column                                                                             Non-Null Count  Dtype \n",
      "---  ------                                                                             --------------  ----- \n",
      " 0   Timestamp                                                                          17 non-null     object\n",
      " 1   Which part of the world have you spent most of your life in?                       17 non-null     object\n",
      " 2   What motivates you to work?                                                        17 non-null     object\n",
      " 3   Which out of these can be described as your desired end goal for life?             17 non-null     object\n",
      " 4   Which best describes paradise for you?                                             17 non-null     object\n",
      " 5   Which way would you best describe the event's that have taken place in your life?  17 non-null     object\n",
      " 6   Which of these do you desire the most?                                             17 non-null     object\n",
      "dtypes: object(7)\n",
      "memory usage: 1.1+ KB\n",
      "None\n"
     ]
    }
   ],
   "source": [
    "#To display the first few rows of the data\n",
    "print(questionaire_data.head())\n",
    "\n",
    "#To get a summary of your dataframe\n",
    "print(questionaire_data.info())"
   ]
  },
  {
   "cell_type": "code",
   "execution_count": null,
   "id": "a8512a6a-4acd-4190-8c27-2c4bd5a1aa9f",
   "metadata": {},
   "outputs": [],
   "source": []
  }
 ],
 "metadata": {
  "kernelspec": {
   "display_name": "Python 3 (ipykernel)",
   "language": "python",
   "name": "python3"
  },
  "language_info": {
   "codemirror_mode": {
    "name": "ipython",
    "version": 3
   },
   "file_extension": ".py",
   "mimetype": "text/x-python",
   "name": "python",
   "nbconvert_exporter": "python",
   "pygments_lexer": "ipython3",
   "version": "3.12.0"
  }
 },
 "nbformat": 4,
 "nbformat_minor": 5
}
